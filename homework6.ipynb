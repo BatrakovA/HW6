{
 "cells": [
  {
   "cell_type": "markdown",
   "metadata": {},
   "source": [
    "Задание 1. \n",
    "The Moscow Times - Wednesday, October 2, 2002 \n",
    "The Guardian - Friday, 11.10.13 \n",
    "Daily News - Thursday, 18 August 1977"
   ]
  },
  {
   "cell_type": "markdown",
   "metadata": {},
   "source": [
    "Формат\tЗначение\n",
    "%a\tназвание дня недели в сокращенном виде\n",
    "%A\tназвание дня недели в полном виде\n",
    "%w\tномер дня недели в виде целого числа\n",
    "%d\tномер дня месяца в виде целого числа\n",
    "%b\tназвание месяца в сокращенном виде\n",
    "%B\tназвание месяца в полном виде\n",
    "%m\tномер месяца в числовом представлении\n",
    "%y\tномер года без столетия\n",
    "%Y\tномер года в полном представлении\n",
    "%H\tколичество часов в 24-часовом формате\n",
    "%I\tколичество часов в 12-часовом формате\n",
    "%p\tдо полудня или после полудня в 12-часовом формате\n",
    "%M\tколичество минут в виде целого числа\n",
    "%S\tколичество секунд в виде целого числа\n",
    "%f\tколичество микросекунд в виде целого числа\n",
    "%z\tчасовой пояс в формате UTC\n",
    "%Z\tназвание часового пояса\n",
    "%j\tномер дня в году\n",
    "%U\tномер недели в году, если считать с воскресенья\n",
    "%w\tномер недели в году, если считать с понедельника\n",
    "%c\tместное представление даты и времени\n",
    "%x\tместное представление даты\n",
    "%X\tместное представление времени\n",
    "%%\tсимвол процента"
   ]
  },
  {
   "cell_type": "code",
   "execution_count": 1,
   "metadata": {},
   "outputs": [],
   "source": [
    "from datetime import timedelta\n",
    "from datetime import datetime"
   ]
  },
  {
   "cell_type": "code",
   "execution_count": 2,
   "metadata": {},
   "outputs": [
    {
     "data": {
      "text/plain": [
       "datetime.datetime(2002, 10, 2, 0, 0)"
      ]
     },
     "execution_count": 2,
     "metadata": {},
     "output_type": "execute_result"
    }
   ],
   "source": [
    "TMT = datetime.strptime(\"Wednesday, October 2, 2002\", \"%A, %B %d, %Y\")\n",
    "TMT"
   ]
  },
  {
   "cell_type": "code",
   "execution_count": 3,
   "metadata": {},
   "outputs": [
    {
     "data": {
      "text/plain": [
       "datetime.datetime(2013, 10, 11, 0, 0)"
      ]
     },
     "execution_count": 3,
     "metadata": {},
     "output_type": "execute_result"
    }
   ],
   "source": [
    "TG = datetime.strptime(\"Friday, 11.10.13\", \"%A, %d.%m.%y\") #или %y.%m.%d %m.%d.%\n",
    "TG"
   ]
  },
  {
   "cell_type": "code",
   "execution_count": 4,
   "metadata": {},
   "outputs": [
    {
     "data": {
      "text/plain": [
       "datetime.datetime(1977, 8, 18, 0, 0)"
      ]
     },
     "execution_count": 4,
     "metadata": {},
     "output_type": "execute_result"
    }
   ],
   "source": [
    "DN = datetime.strptime(\"Thursday, 18 August 1977\", \"%A, %d %B %Y\") \n",
    "DN"
   ]
  },
  {
   "cell_type": "markdown",
   "metadata": {},
   "source": [
    "Задание 2.\n",
    "Дан поток дат в формате YYYY-MM-DD, в которых встречаются некорректные значения:\n",
    "stream = ['2018-04-02', '2018-02-29', '2018-19-02']\n",
    "\n",
    "Напишите функцию, которая проверяет эти даты на корректность. Т. е. для каждой даты возвращает True (дата корректна) или False (некорректная дата)."
   ]
  },
  {
   "cell_type": "code",
   "execution_count": 5,
   "metadata": {},
   "outputs": [],
   "source": [
    "stream = ['2018-04-02', '2018-02-29', '2018-19-02']"
   ]
  },
  {
   "cell_type": "code",
   "execution_count": 6,
   "metadata": {},
   "outputs": [],
   "source": [
    "def сheckdate(dates):\n",
    "    \"\"\"\n",
    "    Функция проверяет корректность дат\n",
    "    \"\"\"\n",
    "    for date in dates:\n",
    "        try:\n",
    "            cdate = datetime.strptime(date, \"%Y-%m-%d\") \n",
    "        except:\n",
    "            print(date, False)\n",
    "        else:\n",
    "            print(date, True)"
   ]
  },
  {
   "cell_type": "code",
   "execution_count": 7,
   "metadata": {},
   "outputs": [
    {
     "name": "stdout",
     "output_type": "stream",
     "text": [
      "2018-04-02 True\n",
      "2018-02-29 False\n",
      "2018-19-02 False\n"
     ]
    }
   ],
   "source": [
    "сheckdate(stream)"
   ]
  },
  {
   "cell_type": "markdown",
   "metadata": {},
   "source": [
    "Задание 3\n",
    "Напишите функцию date_range, которая возвращает список дат за период от start_date до end_date. \n",
    "Даты должны вводиться в формате YYYY-MM-DD. \n",
    "В случае неверного формата или при start_date > end_date должен возвращаться пустой список."
   ]
  },
  {
   "cell_type": "code",
   "execution_count": 29,
   "metadata": {},
   "outputs": [],
   "source": [
    "def datelist(start_date,end_date):\n",
    "    \"\"\"\n",
    "    Функция выводит список дат за указанный период\n",
    "    \"\"\"\n",
    "    date_list = []\n",
    "    try:\n",
    "        sdate = datetime.strptime(start_date, \"%Y-%m-%d\") \n",
    "        edate = datetime.strptime(end_date, \"%Y-%m-%d\") \n",
    "    except:\n",
    "        print(date_list) #pass\n",
    "    else:\n",
    "        while edate >= sdate:\n",
    "            date_list.append(datetime.strftime(sdate, \"%Y-%m-%d\"))\n",
    "            sdate += timedelta(days=1)                \n",
    "        print(date_list)\n",
    "        "
   ]
  },
  {
   "cell_type": "code",
   "execution_count": 30,
   "metadata": {},
   "outputs": [
    {
     "name": "stdout",
     "output_type": "stream",
     "text": [
      "['2021-01-01', '2021-01-02', '2021-01-03', '2021-01-04', '2021-01-05', '2021-01-06', '2021-01-07', '2021-01-08', '2021-01-09', '2021-01-10', '2021-01-11', '2021-01-12', '2021-01-13', '2021-01-14', '2021-01-15', '2021-01-16', '2021-01-17', '2021-01-18', '2021-01-19', '2021-01-20', '2021-01-21', '2021-01-22', '2021-01-23', '2021-01-24', '2021-01-25', '2021-01-26', '2021-01-27', '2021-01-28', '2021-01-29', '2021-01-30', '2021-01-31', '2021-02-01', '2021-02-02', '2021-02-03', '2021-02-04', '2021-02-05', '2021-02-06', '2021-02-07', '2021-02-08', '2021-02-09', '2021-02-10', '2021-02-11', '2021-02-12', '2021-02-13', '2021-02-14', '2021-02-15', '2021-02-16', '2021-02-17', '2021-02-18', '2021-02-19', '2021-02-20', '2021-02-21', '2021-02-22', '2021-02-23', '2021-02-24', '2021-02-25', '2021-02-26', '2021-02-27', '2021-02-28']\n"
     ]
    }
   ],
   "source": [
    "datelist('2021-01-01','2021-02-28')"
   ]
  },
  {
   "cell_type": "code",
   "execution_count": 31,
   "metadata": {},
   "outputs": [
    {
     "name": "stdout",
     "output_type": "stream",
     "text": [
      "[]\n"
     ]
    }
   ],
   "source": [
    "datelist('2021-01-01','2021-02-29')"
   ]
  },
  {
   "cell_type": "code",
   "execution_count": 32,
   "metadata": {},
   "outputs": [
    {
     "name": "stdout",
     "output_type": "stream",
     "text": [
      "[]\n"
     ]
    }
   ],
   "source": [
    "datelist('2021-02-01','2021-01-29')"
   ]
  },
  {
   "cell_type": "markdown",
   "metadata": {},
   "source": [
    "Задание 4\n",
    "\n",
    "Ваш коллега прислал код функции:\n",
    "\n",
    "DEFAULT_USER_COUNT = 3\n",
    "\n",
    "def delete_and_return_last_user(region, default_list=[‘A100’, ‘A101’, ‘A102’]):\n",
    "\"\"“\n",
    "Удаляет из списка default_list последнего пользователя\n",
    "и возвращает ID нового последнего пользователя.\n",
    "”\"\"\n",
    "element_to_delete = default_list[-1]\n",
    "default_list.remove(element_to_delete)\n",
    "\n",
    "1\n",
    "return default_list[DEFAULT_USER_COUNT-2]\n",
    "При однократном вызове этой функции все работает корректно:\n",
    "delete_and_return_last_user(1)\n",
    "‘A101’\n",
    "\n",
    "Однако, при повторном вызове получается ошибка IndexError: list index out of range.\n",
    "\n",
    "Задание:\n",
    "\n",
    "Что значит ошибка list index out of range?\n",
    "Почему при первом запуске функция работает корректно, а при втором - нет?"
   ]
  },
  {
   "cell_type": "markdown",
   "metadata": {},
   "source": [
    "list index out of range - обращение к списку по неверному индексу\n",
    "в начале у нас есть 0, 1, 2\n",
    "мы удаляем 2 и выводим 3 - 2 = 1\n",
    "при следующем запуске мы удаляем 1, но пытаемся его же и вывести, т.к. не меняем в функции DEFAULT_USER_COUNT"
   ]
  }
 ],
 "metadata": {
  "kernelspec": {
   "display_name": "Python 3",
   "language": "python",
   "name": "python3"
  },
  "language_info": {
   "codemirror_mode": {
    "name": "ipython",
    "version": 3
   },
   "file_extension": ".py",
   "mimetype": "text/x-python",
   "name": "python",
   "nbconvert_exporter": "python",
   "pygments_lexer": "ipython3",
   "version": "3.8.5"
  }
 },
 "nbformat": 4,
 "nbformat_minor": 4
}
